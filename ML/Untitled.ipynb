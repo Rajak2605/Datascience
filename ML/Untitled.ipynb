{
 "cells": [
  {
   "cell_type": "code",
   "execution_count": 4,
   "id": "937b619b-88f1-4980-baa7-8fb6127e4a33",
   "metadata": {},
   "outputs": [
    {
     "data": {
      "text/plain": [
       "10"
      ]
     },
     "execution_count": 4,
     "metadata": {},
     "output_type": "execute_result"
    }
   ],
   "source": [
    "2+8\n"
   ]
  },
  {
   "cell_type": "markdown",
   "id": "27101ffe-ec69-4b62-85df-c563b1309351",
   "metadata": {},
   "source": [
    "to add a cell above -esc+a"
   ]
  },
  {
   "cell_type": "code",
   "execution_count": 3,
   "id": "379bfa4c-e5f2-4861-8dfb-245511686da8",
   "metadata": {},
   "outputs": [
    {
     "name": "stdout",
     "output_type": "stream",
     "text": [
      "hello anaconda\n"
     ]
    }
   ],
   "source": [
    "print('hello anaconda')"
   ]
  },
  {
   "cell_type": "code",
   "execution_count": 6,
   "id": "3a8c00fa-347d-4e88-a6cc-491adf9c6de4",
   "metadata": {},
   "outputs": [
    {
     "name": "stdout",
     "output_type": "stream",
     "text": [
      " i m learning python\n"
     ]
    }
   ],
   "source": [
    "print(''' i m learning python''')"
   ]
  },
  {
   "cell_type": "code",
   "execution_count": null,
   "id": "97c86d4c-b703-47fa-a9cc-0c92e65001d0",
   "metadata": {},
   "outputs": [],
   "source": []
  }
 ],
 "metadata": {
  "kernelspec": {
   "display_name": "Python 3 (ipykernel)",
   "language": "python",
   "name": "python3"
  },
  "language_info": {
   "codemirror_mode": {
    "name": "ipython",
    "version": 3
   },
   "file_extension": ".py",
   "mimetype": "text/x-python",
   "name": "python",
   "nbconvert_exporter": "python",
   "pygments_lexer": "ipython3",
   "version": "3.11.7"
  }
 },
 "nbformat": 4,
 "nbformat_minor": 5
}
